{
 "cells": [
  {
   "cell_type": "code",
   "execution_count": 1,
   "id": "90b02324",
   "metadata": {},
   "outputs": [],
   "source": [
    "%load_ext autoreload\n",
    "%autoreload 2"
   ]
  },
  {
   "cell_type": "code",
   "execution_count": 3,
   "id": "4957f78a",
   "metadata": {},
   "outputs": [
    {
     "name": "stderr",
     "output_type": "stream",
     "text": [
      "/var/folders/zb/r15p7t_d62d8m2s0623s22gh0000gn/T/ipykernel_57378/4231396869.py:15: UserWarning: Qdrant client version 1.14.2 is incompatible with server version 1.12.6. Major versions should match and minor version difference must not exceed 1. Set check_compatibility=False to skip version check.\n",
      "  client = QdrantClient(url=\"http://localhost:6333\",)\n",
      "/var/folders/zb/r15p7t_d62d8m2s0623s22gh0000gn/T/ipykernel_57378/4231396869.py:16: UserWarning: Qdrant client version 1.14.2 is incompatible with server version 1.12.6. Major versions should match and minor version difference must not exceed 1. Set check_compatibility=False to skip version check.\n",
      "  aclient= AsyncQdrantClient(url=\"http://localhost:6333\")\n"
     ]
    },
    {
     "data": {
      "application/vnd.jupyter.widget-view+json": {
       "model_id": "d7cbd592dc13470bb96b9d261a0248c5",
       "version_major": 2,
       "version_minor": 0
      },
      "text/plain": [
       "Loading files:   0%|          | 0/1 [00:00<?, ?it/s]"
      ]
     },
     "metadata": {},
     "output_type": "display_data"
    }
   ],
   "source": [
    "from llama_index.core import (\n",
    "    Settings, \n",
    "    SimpleDirectoryReader,\n",
    "    StorageContext,\n",
    "    VectorStoreIndex, \n",
    ")\n",
    "from llama_index.llms.ollama import Ollama\n",
    "from llama_index.embeddings.ollama import OllamaEmbedding\n",
    "from llama_index.vector_stores.qdrant import QdrantVectorStore\n",
    "from qdrant_client import QdrantClient, AsyncQdrantClient\n",
    "\n",
    "Settings.llm = Ollama(\"qwen2.5\", temperature=0)\n",
    "Settings.embed_model = OllamaEmbedding(model_name=\"nomic-embed-text\")\n",
    "\n",
    "client = QdrantClient(url=\"http://localhost:6333\",)\n",
    "aclient= AsyncQdrantClient(url=\"http://localhost:6333\")\n",
    "vector_store = QdrantVectorStore(\n",
    "    client=client,\n",
    "    collection_name=\"airflow_v0\",\n",
    ")\n",
    "storage_context = StorageContext.from_defaults(vector_store=vector_store)\n",
    "\n",
    "documents = SimpleDirectoryReader(\"../../docs\").load_data(show_progress=True)\n",
    "index = VectorStoreIndex.from_documents(\n",
    "    documents=documents,\n",
    "    storage_context=storage_context,\n",
    "    embed_model=Settings.embed_model,\n",
    ")"
   ]
  },
  {
   "cell_type": "code",
   "execution_count": 4,
   "id": "83dc57d2",
   "metadata": {},
   "outputs": [
    {
     "data": {
      "text/markdown": [
       "The supply and demand side methodologies differ due to the complexities involved in estimating the value of open source software (OSS). On the supply side, the focus is on labor costs, which are more straightforward to estimate as it involves calculating the wages associated with maintaining and developing OSS. This approach leverages data on programmer wages and the effort required to develop and maintain OSS.\n",
       "\n",
       "On the demand side, estimating the value of OSS is more challenging because it requires assumptions about market demand and pricing strategies that align with proprietary software. The demand-side methodologies often involve scaling estimates from labor markets or using back-of-the-envelope calculations based on reference prices for proprietary goods. These methods are inherently flawed as they assume similar market demands and prices across different types of software, which can lead to underestimations.\n",
       "\n",
       "The supply side methodology is considered more robust because it directly relates to the actual costs incurred in developing OSS, whereas the demand-side approaches rely heavily on assumptions that may not accurately reflect the true value of OSS."
      ],
      "text/plain": [
       "<IPython.core.display.Markdown object>"
      ]
     },
     "metadata": {},
     "output_type": "display_data"
    }
   ],
   "source": [
    "from IPython.display import display, Markdown\n",
    "\n",
    "query_engine = index.as_query_engine(llm=Settings.llm)\n",
    "response = query_engine.query(\"Why is there a difference in the supply and demand side methodologies for the value of open sourced software?\")\n",
    "\n",
    "display(Markdown(str(response)))"
   ]
  },
  {
   "cell_type": "code",
   "execution_count": null,
   "id": "d77b64a9",
   "metadata": {},
   "outputs": [],
   "source": []
  }
 ],
 "metadata": {
  "kernelspec": {
   "display_name": ".venv",
   "language": "python",
   "name": "python3"
  },
  "language_info": {
   "codemirror_mode": {
    "name": "ipython",
    "version": 3
   },
   "file_extension": ".py",
   "mimetype": "text/x-python",
   "name": "python",
   "nbconvert_exporter": "python",
   "pygments_lexer": "ipython3",
   "version": "3.12.5"
  }
 },
 "nbformat": 4,
 "nbformat_minor": 5
}
